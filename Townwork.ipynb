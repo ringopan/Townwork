{
 "cells": [
  {
   "cell_type": "code",
   "execution_count": 1,
   "id": "716bbe8f",
   "metadata": {},
   "outputs": [],
   "source": [
    "import requests\n",
    "from bs4 import BeautifulSoup\n",
    "from time import sleep\n",
    "import pandas as pd\n",
    "import csv"
   ]
  },
  {
   "cell_type": "code",
   "execution_count": 2,
   "id": "e13f237d",
   "metadata": {},
   "outputs": [
    {
     "name": "stdout",
     "output_type": "stream",
     "text": [
      "d_listの大きさ： 0\n",
      "d_listの大きさ： 35\n",
      "d_listの大きさ： 70\n",
      "d_listの大きさ： 105\n",
      "d_listの大きさ： 140\n",
      "d_listの大きさ： 175\n",
      "d_listの大きさ： 210\n",
      "d_listの大きさ： 245\n",
      "d_listの大きさ： 280\n",
      "d_listの大きさ： 315\n",
      "d_listの大きさ： 350\n",
      "d_listの大きさ： 385\n",
      "d_listの大きさ： 420\n"
     ]
    }
   ],
   "source": [
    "url =\"https://townwork.net/tokyo/jc_009/jmc_00903/?page={}\"\n",
    "\n",
    "d_list =[]\n",
    "\n",
    "for i in range(1, 14):\n",
    "    print(\"d_listの大きさ：\",len(d_list))\n",
    "    target_url = url.format(i)\n",
    "\n",
    "\n",
    "    r = requests.get(target_url)\n",
    "\n",
    "    sleep(1)\n",
    "\n",
    "    soup = BeautifulSoup(r.text)\n",
    "\n",
    "    contents = soup.find_all(\"div\", class_=\"job-lst-main-contents\")\n",
    "\n",
    "\n",
    "    for content in contents:\n",
    "\n",
    "        company_name = content.find(\"h3\", class_=\"job-lst-main-ttl-txt\").text\n",
    "        title = content.find(\"p\", class_=\"job-lst-main-txt-lnk\").text\n",
    "        salary = content.find_all(\"tr\", class_=\"job-main-tbl-inner\")\n",
    "        acces = content.find_all(\"tr\", class_=\"job-main-tbl-inner\")\n",
    "        time = content.find_all(\"tr\", class_=\"job-main-tbl-inner\")\n",
    "\n",
    "        d = {\n",
    "            \"company_name\":company_name,\n",
    "            \"salary\":salary[0].text,\n",
    "            \"acces\":acces[1].text,\n",
    "            \"time\":time[2].text,\n",
    "        }\n",
    "\n",
    "\n",
    "        d_list.append(d)"
   ]
  },
  {
   "cell_type": "code",
   "execution_count": 3,
   "id": "efcc9172",
   "metadata": {},
   "outputs": [],
   "source": [
    "df = pd.DataFrame(d_list)\n",
    "df.to_csv(\"Townwork.csv\",encoding ='utf-8-sig')\n"
   ]
  },
  {
   "cell_type": "code",
   "execution_count": null,
   "id": "188a1ae0",
   "metadata": {},
   "outputs": [],
   "source": [
    "\n"
   ]
  },
  {
   "cell_type": "code",
   "execution_count": null,
   "id": "73c3a258",
   "metadata": {},
   "outputs": [],
   "source": []
  }
 ],
 "metadata": {
  "kernelspec": {
   "display_name": "Python 3",
   "language": "python",
   "name": "python3"
  },
  "language_info": {
   "codemirror_mode": {
    "name": "ipython",
    "version": 3
   },
   "file_extension": ".py",
   "mimetype": "text/x-python",
   "name": "python",
   "nbconvert_exporter": "python",
   "pygments_lexer": "ipython3",
   "version": "3.8.8"
  }
 },
 "nbformat": 4,
 "nbformat_minor": 5
}
